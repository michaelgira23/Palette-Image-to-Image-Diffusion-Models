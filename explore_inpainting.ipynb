{
 "cells": [
  {
   "cell_type": "code",
   "execution_count": 14,
   "metadata": {},
   "outputs": [],
   "source": [
    "import matplotlib.pyplot as plt\n",
    "# import numpy as np\n",
    "from PIL import Image\n",
    "\n",
    "# import torch\n",
    "from torchvision import transforms\n",
    "\n",
    "def pil_loader(path):\n",
    "\treturn Image.open(path).convert('RGB')\n",
    "\n",
    "tfs = transforms.Compose([\n",
    "\ttransforms.Resize((256, 256)),\n",
    "\ttransforms.ToTensor(),\n",
    "\ttransforms.Normalize(mean=[0.5, 0.5, 0.5], std=[0.5, 0.5, 0.5]),\n",
    "\ttransforms.Grayscale(num_output_channels=1),\n",
    "])\n",
    "\n",
    "tfs_to_tensor = transforms.Compose([\n",
    "\t# transforms.Resize((256, 256)),\n",
    "\ttransforms.ToTensor(),\n",
    "\t# transforms.Normalize(mean=[0.5, 0.5, 0.5], std=[0.5, 0.5, 0.5]),\n",
    "\t# transforms.Grayscale(num_output_channels=1),\n",
    "])"
   ]
  },
  {
   "cell_type": "code",
   "execution_count": 3,
   "metadata": {},
   "outputs": [
    {
     "data": {
      "text/plain": [
       "Text(0.5, 1.0, 'Low Resolution')"
      ]
     },
     "execution_count": 3,
     "metadata": {},
     "output_type": "execute_result"
    },
    {
     "ename": "",
     "evalue": "",
     "output_type": "error",
     "traceback": [
      "\u001b[1;31mCanceled future for execute_request message before replies were done"
     ]
    },
    {
     "ename": "",
     "evalue": "",
     "output_type": "error",
     "traceback": [
      "\u001b[1;31mThe Kernel crashed while executing code in the the current cell or a previous cell. Please review the code in the cell(s) to identify a possible cause of the failure. Click <a href='https://aka.ms/vscodeJupyterKernelCrash'>here</a> for more info. View Jupyter <a href='command:jupyter.viewOutput'>log</a> for further details."
     ]
    }
   ],
   "source": [
    "lr_image = '../matter-density-superresolution/test/lr/1-0.png'\n",
    "hr_image = '../matter-density-superresolution/test/hr/1-0.png'\n",
    "half_mask = 'half.png'\n",
    "\n",
    "# Load images using numpy\n",
    "lr = tfs(pil_loader(lr_image))[0]\n",
    "hr = tfs(pil_loader(hr_image))[0]\n",
    "half_mask = tfs_to_tensor(pil_loader(half_mask))[0]\n",
    "\n",
    "# # Plot images\n",
    "plt.figure(figsize=(10, 10))\n",
    "plt.subplot(1, 3, 1)\n",
    "plt.imshow(lr, cmap='gray')\n",
    "plt.title('Low Resolution')\n",
    "# plt.subplot(1, 3, 2)\n",
    "# plt.imshow(hr, cmap='gray')\n",
    "# plt.title('High Resolution')\n",
    "# plt.subplot(1, 3, 3)\n",
    "# plt.imshow(half_mask, cmap='gray')\n",
    "# plt.title('Half Mask')\n",
    "\n",
    "# plt.show()"
   ]
  },
  {
   "cell_type": "code",
   "execution_count": null,
   "metadata": {},
   "outputs": [],
   "source": [
    "# %run run_inpaint.py --lr-img-path ../matter-density-superresolution/test/lr/1-0.png --hr-img-path ../matter-density-superresolution/test/hr/1-0.png --mask-path half.png --num-inference-steps 100 --jump-length 10 --jump-n-sample 10 -c config/superresolution.json"
   ]
  },
  {
   "cell_type": "code",
   "execution_count": null,
   "metadata": {},
   "outputs": [],
   "source": [
    "# half_mask = np.array(half_mask)[:,:,0] // np.max(np.array(half_mask))\n"
   ]
  },
  {
   "cell_type": "code",
   "execution_count": null,
   "metadata": {},
   "outputs": [],
   "source": [
    "# inpaint_img = x_t.squeeze().detach().cpu().numpy()\n",
    "inpaint_img = tfs(pil_loader('output/repaint.png'))[0]\n",
    "\n",
    "plt.figure(figsize=(10, 10))\n",
    "plt.subplot(1, 3, 1)\n",
    "plt.imshow(hr*half_mask, cmap='gray')\n",
    "plt.title('Masked Image')\n",
    "\n",
    "plt.subplot(1, 3, 2)\n",
    "plt.imshow(inpaint_img, cmap='gray')\n",
    "plt.title('Inpainted Image')\n",
    "\n",
    "plt.subplot(1, 3, 3)\n",
    "plt.imshow(hr, cmap='gray')\n",
    "plt.title('Ground Truth')\n",
    "plt.show()"
   ]
  },
  {
   "cell_type": "code",
   "execution_count": 15,
   "metadata": {},
   "outputs": [
    {
     "name": "stdout",
     "output_type": "stream",
     "text": [
      "Generated 49 images for patches dataset.\n"
     ]
    },
    {
     "ename": "",
     "evalue": "",
     "output_type": "error",
     "traceback": [
      "\u001b[1;31mCanceled future for execute_request message before replies were done"
     ]
    },
    {
     "ename": "",
     "evalue": "",
     "output_type": "error",
     "traceback": [
      "\u001b[1;31mThe Kernel crashed while executing code in the the current cell or a previous cell. Please review the code in the cell(s) to identify a possible cause of the failure. Click <a href='https://aka.ms/vscodeJupyterKernelCrash'>here</a> for more info. View Jupyter <a href='command:jupyter.viewOutput'>log</a> for further details."
     ]
    }
   ],
   "source": [
    "# Stitch together\n",
    "import torch\n",
    "from os import mkdir, path\n",
    "from shutil import rmtree\n",
    "\n",
    "lr_full_path_0 = '../matter-density-superresolution/full/lr/0.png'\n",
    "hr_full_path_0 = '../matter-density-superresolution/full/hr/0.png'\n",
    "\n",
    "lr_full_0 = tfs_to_tensor(pil_loader(lr_full_path_0))[0]\n",
    "hr_full_0 = tfs_to_tensor(pil_loader(hr_full_path_0))[0]\n",
    "\n",
    "plt.figure(figsize=(10, 10))\n",
    "plt.subplot(1, 2, 1)\n",
    "plt.imshow(lr_full_0, cmap='gray')\n",
    "plt.clim(0, 1)\n",
    "plt.title('Low Resolution')\n",
    "\n",
    "plt.subplot(1, 2, 2)\n",
    "plt.imshow(hr_full_0, cmap='gray')\n",
    "plt.clim(0, 1)\n",
    "plt.title('High Resolution')\n",
    "\n",
    "def split_patches(directory, lr_full, hr_full, i, size, stride):\n",
    "\tif path.isdir(directory):\n",
    "\t\trmtree(directory)\n",
    "\tmkdir(directory)\n",
    "\tmkdir(f'{directory}/hr')\n",
    "\tmkdir(f'{directory}/lr')\n",
    "\tmkdir(f'{directory}/mask')\n",
    "\n",
    "\tfnames = []\n",
    "\n",
    "\tmask_full = torch.zeros_like(lr_full)\n",
    "\t\n",
    "\tfor x_start in range(0, lr_full.shape[0] - stride, stride):\n",
    "\t\tfor y_start in range(0, lr_full.shape[1] - stride, stride):\n",
    "\t\t\tx_end = x_start + size\n",
    "\t\t\ty_end = y_start + size\n",
    "\n",
    "\t\t\tfname = f'{i}-x-{x_start}-y-{y_start}'\n",
    "\t\t\tfnames.append(fname)\n",
    "\n",
    "\t\t\timg = Image.fromarray((hr_full[x_start:x_end, y_start:y_end] * 255).type(torch.uint8).numpy(), 'L')\n",
    "\t\t\timg.save(f'{directory}/hr/{fname}.png')\n",
    "\n",
    "\t\t\timg = Image.fromarray((lr_full[x_start:x_end, y_start:y_end] * 255).type(torch.uint8).numpy(), 'L')\n",
    "\t\t\timg.save(f'{directory}/lr/{fname}.png')\n",
    "\n",
    "\t\t\tmask = Image.fromarray((mask_full[x_start:x_end, y_start:y_end] * 255).type(torch.uint8).numpy(), 'L')\n",
    "\t\t\tmask.save(f'{directory}/mask/{fname}.png')\n",
    "\t\t\tmask_full[x_start:x_end, y_start:y_end] = 1\n",
    "\t\t\n",
    "\tnp.savetxt(f'{directory}/flist.txt', np.array(fnames, dtype=str), '%s', encoding='utf-8')\n",
    "\tprint(f'Generated {len(fnames)} images for {directory} dataset.')\n",
    "\n",
    "split_patches('patches', lr_full_0, hr_full_0, 0, 256, 256 // 2)"
   ]
  },
  {
   "cell_type": "code",
   "execution_count": 2,
   "metadata": {},
   "outputs": [],
   "source": [
    "import numpy as np\n",
    "\n",
    "images = [i for i in np.genfromtxt('patches/flist.txt', dtype=str, encoding='utf-8')]\n",
    "\n",
    "cmds = []\n",
    "for i, image in enumerate(images):\n",
    "\tlr_img_path = f'patches/lr/{image}.png'\n",
    "\thr_img_path = f'patches/generated_hr/{image}.png'\n",
    "\tmask_path = f'patches/mask/{image}.png'\n",
    "\toutput_path =f'patches/output/{image}.png'\n",
    "\n",
    "\tparts = image.split('-')\n",
    "\tx = int(parts[2])\n",
    "\ty = int(parts[4])\n",
    "\n",
    "\tcmds.append(f'python compile_patches.py -x {x} -y {y}')\n",
    "\tif i == 0:\n",
    "\t\tcmd = f'python superresolve.py --lr-img-path {lr_img_path} --hr-img-path {hr_img_path} -o {output_path} -c config/superresolution.json'\n",
    "\telse:\n",
    "\t\tcmd = f'python run_inpaint.py --lr-img-path {lr_img_path} --hr-img-path {hr_img_path} --mask-path {mask_path} -o {output_path} --num-inference-steps 100 --jump-length 10 --jump-n-sample 10 -c config/superresolution.json'\n",
    "\tcmds.append(cmd)\n",
    "\t\n",
    "\t# break\n",
    "\t# if i > 2:\n",
    "\t# \tbreak\n",
    "\n",
    "cmds.append('python compile_patches.py')\n",
    "np.savetxt('generate_patches.bat', np.array(cmds, dtype=str), '%s', encoding='utf-8')"
   ]
  }
 ],
 "metadata": {
  "kernelspec": {
   "display_name": "supres",
   "language": "python",
   "name": "python3"
  },
  "language_info": {
   "codemirror_mode": {
    "name": "ipython",
    "version": 3
   },
   "file_extension": ".py",
   "mimetype": "text/x-python",
   "name": "python",
   "nbconvert_exporter": "python",
   "pygments_lexer": "ipython3",
   "version": "3.10.9"
  },
  "orig_nbformat": 4,
  "vscode": {
   "interpreter": {
    "hash": "e818845813f90197330ba6ae53e11ce49639b5dd9afbf14e065610412c27614b"
   }
  }
 },
 "nbformat": 4,
 "nbformat_minor": 2
}
